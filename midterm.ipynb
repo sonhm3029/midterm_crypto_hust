{
 "cells": [
  {
   "cell_type": "markdown",
   "metadata": {},
   "source": [
    "# Giả bài kiểm tra với code python\n",
    "\n",
    "## Câu 1\n",
    "\n",
    "Mật mã hóa bản rõ \"lovehust\" sử dụng hệ mật Affine với khóa mật mã là (x, y) trong đó x, y được xác định một cách phù hợp dựa trên 4 số cuối thẻ sinh viên theo quy luật tự định nghĩa. Giải mật mã mã hóa bản mật nhận được và đối sánh với bản rõ ban đầu.\n",
    "\n",
    "<u><strong>Giải:</strong></u>\n",
    "\n",
    "### Lý thuyết sử dụng:\n",
    "\n",
    "Mã hóa từng kí tự thành các số từ 0-26 với quy tắc:\n",
    "\n",
    " char|a|b|c|d|e|f|g|h|i|j|k|l|m|n|o|p|q|r|s|t|u|v|w|x|y|z\n",
    "-|-|-|-|-|-|-|-|-|-|-|-|-|-|-|-|-|-|-|-|-|-|-|-|-|-|-\n",
    " value|0|1|2|3|4|5|6|7|8|9|10|11|12|13|14|15|16|17|18|19|20|21|22|23|24|25\n",
    "\n",
    "![](./affine_1.png)\n",
    "\n",
    "- Trong đó k<sub>1</sub> là khóa thuộc tập Z<sup>*</sup>26 = [1,3,5,7,9,11,15,17,19,21,23,25]\n",
    "\n",
    "- k<sup>-1</sup><sub>1</sub> là số sao cho (k<sup>-1</sup><sub>1</sub> x k<sub>1</sub>) mod 26 = 1\n",
    "\n",
    "- k<sub>2</sub> bất kì ( nếu chọn k<sub>2</sub>) là kí tự thì k<sub>2</sub> nằm trong đoạn [0-25], tuy nhiên với code và bài thi => chọn k<sub>2</sub> là số\n",
    "\n",
    "Triển khai trên code:"
   ]
  },
  {
   "cell_type": "code",
   "execution_count": 34,
   "metadata": {},
   "outputs": [],
   "source": [
    "from crypto import Affinecipher\n",
    "\n",
    "k1 = int(input(\"Nhập vào k1:\"))\n",
    "k2 = int(input(\"Nhập vào k2:\"))\n",
    "E = Affinecipher(k1,k2,  input(\"Nhập vào bản rõ đề bài\")).encrypt()\n",
    "print(f\"Cipher text: {E}\")\n",
    "print(\"------------------------------------------\")\n",
    "P = Affinecipher(k1,k2, E).decrypt()\n",
    "print(f\"Result after decrypt: {P}\")"
   ]
  },
  {
   "cell_type": "markdown",
   "metadata": {},
   "source": [
    "## Câu 2\n",
    "\n",
    "Hãy tìm bản mật khi mật mã hóa bản rõ \"seacrete\" sử dụng hệ mật mã Autokey với khóa khởi tạo là (tổng 4 số cuối số hiệu thẻ sinh viên % 5).\n",
    "\n",
    "<u><strong>Giải:</strong></u>\n",
    "\n",
    "Lý thuyết:\n",
    "\n",
    "![](./autokey_1.png)\n",
    "\n",
    "Ví dụ:\n",
    "\n",
    "![](./autokey_2.png)\n",
    "\n",
    "Thực hiện với code python:\n",
    "\n"
   ]
  },
  {
   "cell_type": "code",
   "execution_count": 4,
   "metadata": {},
   "outputs": [
    {
     "name": "stdout",
     "output_type": "stream",
     "text": [
      "Plain text: seacrete\n",
      "Plain text Z26 value: [18, 4, 0, 2, 17, 4, 19, 4]\n",
      "Autokey: [9, 18, 4, 0, 2, 17, 4, 19]\n",
      "Plain text Z26 value: [1, 22, 4, 2, 19, 21, 23, 23]\n",
      "Cipher text:bwectvxx \n",
      "-----------------------------\n",
      "Cipher text: bwectvxx\n",
      "Cipher text Z26 value: [1, 22, 4, 2, 19, 21, 23, 23]\n",
      "Autokey: [9, 18, 4, 0, 2, 17, 4, 19]\n",
      "Cipher text Z26 value: [18, 4, 0, 2, 17, 4, 19, 4]\n",
      "Result after decrypt seacrete\n"
     ]
    }
   ],
   "source": [
    "from crypto import AutokeyCipher\n",
    "\n",
    "init_key = int(input(\"Nhập vào mã số init key: \"))\n",
    "\n",
    "\n",
    "key,cipher = AutokeyCipher(init_key, input(\"Nhập vào bản rõ: \")).encrypt()\n",
    "print(f\"Cipher text:{cipher} \")\n",
    "print(\"-----------------------------\")\n",
    "p = AutokeyCipher().decrypt(key, cipher)\n",
    "print(f\"Result after decrypt {p}\")"
   ]
  }
 ],
 "metadata": {
  "interpreter": {
   "hash": "c2fce2166ecf35e10e9706810c05663b0d742ad8d6d30f48ef9e954a1f466467"
  },
  "kernelspec": {
   "display_name": "Python 3.9.6 64-bit",
   "language": "python",
   "name": "python3"
  },
  "language_info": {
   "name": "python",
   "version": "3.9.6"
  },
  "orig_nbformat": 4
 },
 "nbformat": 4,
 "nbformat_minor": 2
}
